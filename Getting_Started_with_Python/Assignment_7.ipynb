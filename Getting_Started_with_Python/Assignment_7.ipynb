{
 "cells": [
  {
   "attachments": {},
   "cell_type": "markdown",
   "metadata": {},
   "source": [
    "# Assignment 5.2"
   ]
  },
  {
   "attachments": {},
   "cell_type": "markdown",
   "metadata": {},
   "source": [
    "Write a program that repeatedly prompts a user for integer numbers until the user enters 'done'. Once 'done' is entered, print out the largest and smallest of the numbers. If the user enters anything other than a valid number catch it with a try/except and put out an appropriate message and ignore the number. Enter 7, 2, bob, 10, and 4 and match the output below.\n",
    "\n",
    "**Desired Output:**\n",
    "\n",
    "```text\n",
    "Invalid input\n",
    "Maximum is 10\n",
    "Minimum is 2\n",
    "```"
   ]
  },
  {
   "cell_type": "code",
   "execution_count": 1,
   "metadata": {},
   "outputs": [
    {
     "name": "stdout",
     "output_type": "stream",
     "text": [
      "Invalid input\n",
      "Maximum is 10.0\n",
      "Minimum is 2.0\n"
     ]
    }
   ],
   "source": [
    "largest = float(\"-inf\")\n",
    "smallest = float(\"inf\")\n",
    "while True:\n",
    "    num = input(\"Enter a number: \")\n",
    "    try:\n",
    "        num = float(num)\n",
    "        if num < smallest:\n",
    "            smallest = num\n",
    "        if num > largest:\n",
    "            largest = num\n",
    "\n",
    "    except:\n",
    "        if num == \"done\":\n",
    "            break\n",
    "        else:\n",
    "            print(\"Invalid input\")\n",
    "\n",
    "print(\"Maximum is\", (largest if largest != float(\"-inf\") else float(\"inf\")))\n",
    "print(\"Minimum is\", (smallest if smallest != float(\"inf\") else float(\"-inf\")))"
   ]
  }
 ],
 "metadata": {
  "kernelspec": {
   "display_name": "base",
   "language": "python",
   "name": "python3"
  },
  "language_info": {
   "codemirror_mode": {
    "name": "ipython",
    "version": 3
   },
   "file_extension": ".py",
   "mimetype": "text/x-python",
   "name": "python",
   "nbconvert_exporter": "python",
   "pygments_lexer": "ipython3",
   "version": "3.10.10"
  },
  "orig_nbformat": 4
 },
 "nbformat": 4,
 "nbformat_minor": 2
}
