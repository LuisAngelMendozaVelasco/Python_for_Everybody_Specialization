{
 "cells": [
  {
   "attachments": {},
   "cell_type": "markdown",
   "metadata": {},
   "source": [
    "# Assignment 3.3"
   ]
  },
  {
   "attachments": {},
   "cell_type": "markdown",
   "metadata": {},
   "source": [
    "Write a program to prompt for a score between 0.0 and 1.0. If the score is out of range, print an error. If the score is between 0.0 and 1.0, print a grade using the following table:\n",
    "\n",
    "Score Grade\n",
    "```text\n",
    ">= 0.9 A\n",
    ">= 0.8 B\n",
    ">= 0.7 C\n",
    ">= 0.6 D\n",
    "< 0.6 F\n",
    "```\n",
    "\n",
    "If the user enters a value out of range, print a suitable error message and exit. For the test, enter a score of 0.85.\n",
    "\n",
    "**Desired Output:**\n",
    "```text\n",
    "B\n",
    "```"
   ]
  },
  {
   "cell_type": "code",
   "execution_count": 23,
   "metadata": {},
   "outputs": [
    {
     "name": "stdout",
     "output_type": "stream",
     "text": [
      "B\n"
     ]
    }
   ],
   "source": [
    "def score_to_grade(score):\n",
    "    if score >= 0 and score < 0.6:\n",
    "        print(\"F\")\n",
    "    elif score >= 0.6 and score < 0.7:\n",
    "        print(\"D\")\n",
    "    elif score >= 0.7 and score < 0.8:\n",
    "        print(\"C\")\n",
    "    elif score >= 0.8 and score < 0.9:\n",
    "        print(\"B\")\n",
    "    elif score >= 0.9 and score <= 1:\n",
    "        print(\"A\")\n",
    "    else:\n",
    "        print(\"The score is out of range!\")\n",
    "        \n",
    "try:   \n",
    "    score = float(input(\"Enter Score: \"))\n",
    "    score_to_grade(score)\n",
    "except Exception as e:\n",
    "    print(e)"
   ]
  }
 ],
 "metadata": {
  "kernelspec": {
   "display_name": "base",
   "language": "python",
   "name": "python3"
  },
  "language_info": {
   "codemirror_mode": {
    "name": "ipython",
    "version": 3
   },
   "file_extension": ".py",
   "mimetype": "text/x-python",
   "name": "python",
   "nbconvert_exporter": "python",
   "pygments_lexer": "ipython3",
   "version": "3.10.10"
  },
  "orig_nbformat": 4
 },
 "nbformat": 4,
 "nbformat_minor": 2
}
