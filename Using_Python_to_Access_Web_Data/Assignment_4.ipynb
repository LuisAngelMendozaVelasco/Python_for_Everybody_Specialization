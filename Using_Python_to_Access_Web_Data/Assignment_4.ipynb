{
 "cells": [
  {
   "attachments": {},
   "cell_type": "markdown",
   "metadata": {},
   "source": [
    "# Assignment: Following Links in HTML Using BeautifulSoup"
   ]
  },
  {
   "attachments": {},
   "cell_type": "markdown",
   "metadata": {},
   "source": [
    "**Following Links in Python**\n",
    "\n",
    "In this assignment you will write a Python program that expands on http://www.py4e.com/code3/urllinks.py. The program will use urllib to read the HTML from the data files below, extract the href= vaues from the anchor tags, scan for a tag that is in a particular position relative to the first name in the list, follow that link and repeat the process a number of times and report the last name you find.\n",
    "\n",
    "We provide two files for this assignment. One is a sample file where we give you the name for your testing and the other is the actual data you need to process for the assignment\n",
    "\n",
    "- Sample problem: Start at http://py4e-data.dr-chuck.net/known_by_Fikret.html\n",
    "Find the link at position 3 (the first name is 1). Follow that link. Repeat this process 4 times. The answer is the last name that you retrieve.\n",
    "Sequence of names: Fikret Montgomery Mhairade Butchi Anayah\n",
    "Last name in sequence: Anayah\n",
    "- Actual problem: Start at: http://py4e-data.dr-chuck.net/known_by_Abdur.html\n",
    "Find the link at position 18 (the first name is 1). Follow that link. Repeat this process 7 times. The answer is the last name that you retrieve.\n",
    "Hint: The first character of the name of the last page that you will load is: K\n",
    "\n",
    "**Strategy**\n",
    "\n",
    "The web pages tweak the height between the links and hide the page after a few seconds to make it difficult for you to do the assignment without writing a Python program. But frankly with a little effort and patience you can overcome these attempts to make it a little harder to complete the assignment without writing a Python program. But that is not the point. The point is to write a clever Python program to solve the program.\n",
    "\n",
    "**Sample execution**\n",
    "\n",
    "Here is a sample execution of a solution:\n",
    "\n",
    "```bash\n",
    "$ python3 solution.py\n",
    "Enter URL: http://py4e-data.dr-chuck.net/known_by_Fikret.html\n",
    "Enter count: 4\n",
    "Enter position: 3\n",
    "Retrieving: http://py4e-data.dr-chuck.net/known_by_Fikret.html\n",
    "Retrieving: http://py4e-data.dr-chuck.net/known_by_Montgomery.html\n",
    "Retrieving: http://py4e-data.dr-chuck.net/known_by_Mhairade.html\n",
    "Retrieving: http://py4e-data.dr-chuck.net/known_by_Butchi.html\n",
    "Retrieving: http://py4e-data.dr-chuck.net/known_by_Anayah.html\n",
    "```\n",
    "\n",
    "The answer to the assignment for this execution is \"Anayah\"."
   ]
  },
  {
   "cell_type": "code",
   "execution_count": 5,
   "metadata": {},
   "outputs": [
    {
     "name": "stdout",
     "output_type": "stream",
     "text": [
      "Starting at: https://py4e-data.dr-chuck.net/known_by_Fikret.html\n",
      "http://py4e-data.dr-chuck.net/known_by_Montgomery.html\n",
      "http://py4e-data.dr-chuck.net/known_by_Mhairade.html\n",
      "http://py4e-data.dr-chuck.net/known_by_Butchi.html\n",
      "Ending at: http://py4e-data.dr-chuck.net/known_by_Anayah.html\n",
      "\n",
      "\n",
      "Starting at: https://py4e-data.dr-chuck.net/known_by_Abdur.html\n",
      "http://py4e-data.dr-chuck.net/known_by_Zoey.html\n",
      "http://py4e-data.dr-chuck.net/known_by_Callan.html\n",
      "http://py4e-data.dr-chuck.net/known_by_Blazej.html\n",
      "http://py4e-data.dr-chuck.net/known_by_Aleishia.html\n",
      "http://py4e-data.dr-chuck.net/known_by_Avril.html\n",
      "http://py4e-data.dr-chuck.net/known_by_Janette.html\n",
      "Ending at: http://py4e-data.dr-chuck.net/known_by_Kirsten.html\n"
     ]
    }
   ],
   "source": [
    "import urllib.request, urllib.parse, urllib.error\n",
    "from bs4 import BeautifulSoup\n",
    "import ssl\n",
    "\n",
    "# Ignore SSL certificate errors\n",
    "ctx = ssl.create_default_context()\n",
    "ctx.check_hostname = False\n",
    "ctx.verify_mode = ssl.CERT_NONE\n",
    "\n",
    "def retrieve_urls(url, count, position):\n",
    "    print(\"Starting at:\", url)\n",
    "    for i in range(0, count):\n",
    "        html = urllib.request.urlopen(url, context=ctx).read()\n",
    "        soup = BeautifulSoup(html, 'html.parser')\n",
    "        # Retrieve all of the anchor tags\n",
    "        tags = soup('a')\n",
    "        url = tags[position-1].get('href', None)\n",
    "        if i==count-1:\n",
    "            print(\"Ending at:\", url)\n",
    "        else:\n",
    "            print(url)\n",
    "\n",
    "url = \"https://py4e-data.dr-chuck.net/known_by_Fikret.html\"\n",
    "count = 4\n",
    "position = 3\n",
    "retrieve_urls(url, count, position)\n",
    "\n",
    "url = \"https://py4e-data.dr-chuck.net/known_by_Abdur.html\"\n",
    "count = 7\n",
    "position = 18\n",
    "retrieve_urls(url, count, position)"
   ]
  }
 ],
 "metadata": {
  "kernelspec": {
   "display_name": "base",
   "language": "python",
   "name": "python3"
  },
  "language_info": {
   "codemirror_mode": {
    "name": "ipython",
    "version": 3
   },
   "file_extension": ".py",
   "mimetype": "text/x-python",
   "name": "python",
   "nbconvert_exporter": "python",
   "pygments_lexer": "ipython3",
   "version": "3.10.10"
  },
  "orig_nbformat": 4
 },
 "nbformat": 4,
 "nbformat_minor": 2
}
