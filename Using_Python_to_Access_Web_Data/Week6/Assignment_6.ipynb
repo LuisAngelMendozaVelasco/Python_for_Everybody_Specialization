{
 "cells": [
  {
   "attachments": {},
   "cell_type": "markdown",
   "metadata": {},
   "source": [
    "# Extracting Data from JSON"
   ]
  },
  {
   "attachments": {},
   "cell_type": "markdown",
   "metadata": {},
   "source": [
    "**Extracting Data from JSON**\n",
    "\n",
    "In this assignment you will write a Python program somewhat similar to http://www.py4e.com/code3/json2.py. The program will prompt for a URL, read the JSON data from that URL using urllib and then parse and extract the comment counts from the JSON data, compute the sum of the numbers in the file and enter the sum below:\n",
    "\n",
    "We provide two files for this assignment. One is a sample file where we give you the sum for your testing and the other is the actual data you need to process for the assignment.\n",
    "\n",
    "- Sample data: http://py4e-data.dr-chuck.net/comments_42.json (Sum=2553)\n",
    "- Actual data: http://py4e-data.dr-chuck.net/comments_1791277.json (Sum ends with 93)\n",
    "\n",
    "You do not need to save these files to your folder since your program will read the data directly from the URL. Note: Each student will have a distinct data url for the assignment - so only use your own data url for analysis.\n",
    "\n",
    "**Data Format**\n",
    "\n",
    "The data consists of a number of names and comment counts in JSON as follows:\n",
    "\n",
    "```json\n",
    "{\n",
    "  comments: [\n",
    "    {\n",
    "      name: \"Matthias\"\n",
    "      count: 97\n",
    "    },\n",
    "    {\n",
    "      name: \"Geomer\"\n",
    "      count: 97\n",
    "    }\n",
    "    ...\n",
    "  ]\n",
    "}\n",
    "```\n",
    "\n",
    "The closest sample code that shows how to parse JSON and extract a list is [json2.py](https://www.py4e.com/code3/json2.py?PHPSESSID=fe0084d2c2378b2033e67b1b03dec7d0). You might also want to look at [geoxml.py](https://www.py4e.com/code3/geoxml.py?PHPSESSID=fe0084d2c2378b2033e67b1b03dec7d0) to see how to prompt for a URL and retrieve data from a URL.\n",
    "\n",
    "**Sample Execution**\n",
    "\n",
    "```bash\n",
    "$ python3 solution.py\n",
    "Enter location: http://py4e-data.dr-chuck.net/comments_42.json\n",
    "Retrieving http://py4e-data.dr-chuck.net/comments_42.json\n",
    "Retrieved 2733 characters\n",
    "Count: 50\n",
    "Sum: 2...\n",
    "```"
   ]
  },
  {
   "cell_type": "code",
   "execution_count": 11,
   "metadata": {},
   "outputs": [
    {
     "name": "stdout",
     "output_type": "stream",
     "text": [
      "Retrieving https://py4e-data.dr-chuck.net/comments_42.json\n",
      "Retrieved 2711 characters\n",
      "Count: 50\n",
      "sum = 2553 \n",
      "\n",
      "Retrieving http://py4e-data.dr-chuck.net/comments_1791277.json\n",
      "Retrieved 2730 characters\n",
      "Count: 50\n",
      "sum = 2293 \n",
      "\n"
     ]
    }
   ],
   "source": [
    "import json\n",
    "import urllib.request, urllib.parse, urllib.error\n",
    "\n",
    "def get_sum_numbers(url):\n",
    "    print('Retrieving', url)\n",
    "    address = urllib.request.urlopen(url)\n",
    "    data = address.read()\n",
    "    print(\"Retrieved {} characters\".format(len(data)))\n",
    "\n",
    "    info = json.loads(data)\n",
    "    info = info[\"comments\"]\n",
    "    print('Count:', len(info))\n",
    "\n",
    "    sum = 0\n",
    "    for item in info:\n",
    "        sum += int(item[\"count\"])\n",
    "\n",
    "    return sum\n",
    "\n",
    "url = \"https://py4e-data.dr-chuck.net/comments_42.json\"\n",
    "sum = get_sum_numbers(url)\n",
    "print(\"sum =\", sum, \"\\n\")\n",
    "\n",
    "url = \"http://py4e-data.dr-chuck.net/comments_1791277.json\"\n",
    "sum = get_sum_numbers(url)\n",
    "print(\"sum =\", sum, \"\\n\")"
   ]
  }
 ],
 "metadata": {
  "kernelspec": {
   "display_name": "base",
   "language": "python",
   "name": "python3"
  },
  "language_info": {
   "codemirror_mode": {
    "name": "ipython",
    "version": 3
   },
   "file_extension": ".py",
   "mimetype": "text/x-python",
   "name": "python",
   "nbconvert_exporter": "python",
   "pygments_lexer": "ipython3",
   "version": "3.10.10"
  },
  "orig_nbformat": 4
 },
 "nbformat": 4,
 "nbformat_minor": 2
}
