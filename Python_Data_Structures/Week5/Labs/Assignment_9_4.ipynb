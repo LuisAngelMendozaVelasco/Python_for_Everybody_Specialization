{
 "cells": [
  {
   "attachments": {},
   "cell_type": "markdown",
   "metadata": {},
   "source": [
    "# Assignment 9.4"
   ]
  },
  {
   "attachments": {},
   "cell_type": "markdown",
   "metadata": {},
   "source": [
    "Write a program to read through the mbox-short.txt and figure out who has sent the greatest number of mail messages. The program looks for 'From ' lines and takes the second word of those lines as the person who sent the mail. The program creates a Python dictionary that maps the sender's mail address to a count of the number of times they appear in the file. After the dictionary is produced, the program reads through the dictionary using a maximum loop to find the most prolific committer.\n",
    "\n",
    "**Desired Output:**\n",
    "\n",
    "```text\n",
    "cwen@iupui.edu 5\n",
    "```"
   ]
  },
  {
   "cell_type": "code",
   "execution_count": 5,
   "metadata": {},
   "outputs": [
    {
     "name": "stdout",
     "output_type": "stream",
     "text": [
      "cwen@iupui.edu 5\n"
     ]
    }
   ],
   "source": [
    "def get_emails(file_name):\n",
    "    with open(\"./data/\" + file_name) as file:\n",
    "        text = file.readlines()\n",
    "\n",
    "    emails = []\n",
    "    for line in text:\n",
    "        split_line = line.rstrip().strip().split()\n",
    "        if len(split_line) < 2:\n",
    "            continue\n",
    "        if split_line[0] == \"From\":\n",
    "            emails.append(split_line[1])\n",
    "\n",
    "    return emails\n",
    "\n",
    "# Use the file name mbox-short.txt as the file name\n",
    "file_name = input(\"Enter file name:\")\n",
    "\n",
    "try:\n",
    "    emails = get_emails(file_name)\n",
    "    count_emails = {}\n",
    "    for email in emails:\n",
    "        count_emails[email] = 1 if (email not in count_emails.keys()) else count_emails[email] + 1\n",
    "    max_emails = max(count_emails, key=count_emails.get)\n",
    "    print(max_emails, count_emails[max_emails])\n",
    "            \n",
    "except Exception as e:\n",
    "    print(e)"
   ]
  }
 ],
 "metadata": {
  "kernelspec": {
   "display_name": "base",
   "language": "python",
   "name": "python3"
  },
  "language_info": {
   "codemirror_mode": {
    "name": "ipython",
    "version": 3
   },
   "file_extension": ".py",
   "mimetype": "text/x-python",
   "name": "python",
   "nbconvert_exporter": "python",
   "pygments_lexer": "ipython3",
   "version": "3.10.10"
  },
  "orig_nbformat": 4
 },
 "nbformat": 4,
 "nbformat_minor": 2
}
