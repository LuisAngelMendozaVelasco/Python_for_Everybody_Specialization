{
 "cells": [
  {
   "attachments": {},
   "cell_type": "markdown",
   "metadata": {},
   "source": [
    "# Assignment 7.2"
   ]
  },
  {
   "attachments": {},
   "cell_type": "markdown",
   "metadata": {},
   "source": [
    "Write a program that prompts for a file name, then opens that file and reads through the file, looking for lines of the form:\n",
    "\n",
    "```text\n",
    "X-DSPAM-Confidence:    0.8475\n",
    "```\n",
    "\n",
    "Count these lines and extract the floating point values from each of the lines and compute the average of those values and produce an output as shown below. Do not use the sum() function or a variable named sum in your solution.\n",
    "You can download the sample data at http://www.py4e.com/code3/mbox-short.txt when you are testing below enter mbox-short.txt as the file name.\n",
    "\n",
    "**Desired output:**\n",
    "\n",
    "```text\n",
    "Average spam confidence: 0.7507185185185187\n",
    "```"
   ]
  },
  {
   "cell_type": "code",
   "execution_count": 5,
   "metadata": {},
   "outputs": [
    {
     "name": "stdout",
     "output_type": "stream",
     "text": [
      "Average spam confidence: 0.7507185185185187\n"
     ]
    }
   ],
   "source": [
    "def avg_file_values(file_name):\n",
    "    with open(\"./data/\" + file_name) as file:\n",
    "        text = file.readlines()\n",
    "\n",
    "    count = 0\n",
    "    total = 0\n",
    "\n",
    "    for line in text:\n",
    "        if line.startswith(\"X-DSPAM-Confidence:\"):\n",
    "            index = line.find('0')\n",
    "            number = float(line[index:])\n",
    "            count += 1\n",
    "            total += number\n",
    "\n",
    "    average = total / count\n",
    "    \n",
    "    return average\n",
    "\n",
    "# Use the file name mbox-short.txt as the file name\n",
    "file_name = input(\"Enter file name:\")\n",
    "\n",
    "try:\n",
    "    print(\"Average spam confidence:\", avg_file_values(file_name))\n",
    "except Exception as e:\n",
    "    print(e)"
   ]
  }
 ],
 "metadata": {
  "kernelspec": {
   "display_name": "base",
   "language": "python",
   "name": "python3"
  },
  "language_info": {
   "codemirror_mode": {
    "name": "ipython",
    "version": 3
   },
   "file_extension": ".py",
   "mimetype": "text/x-python",
   "name": "python",
   "nbconvert_exporter": "python",
   "pygments_lexer": "ipython3",
   "version": "3.10.10"
  },
  "orig_nbformat": 4
 },
 "nbformat": 4,
 "nbformat_minor": 2
}
