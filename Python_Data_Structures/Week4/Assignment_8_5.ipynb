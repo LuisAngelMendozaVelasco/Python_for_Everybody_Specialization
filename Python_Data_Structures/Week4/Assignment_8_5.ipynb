{
 "cells": [
  {
   "attachments": {},
   "cell_type": "markdown",
   "metadata": {},
   "source": [
    "# Assignment 8.5"
   ]
  },
  {
   "attachments": {},
   "cell_type": "markdown",
   "metadata": {},
   "source": [
    "Open the file mbox-short.txt and read it line by line. When you find a line that starts with 'From ' like the following line:\n",
    "\n",
    "```text\n",
    "From stephen.marquard@uct.ac.za Sat Jan  5 09:14:16 2008\n",
    "```\n",
    "\n",
    "You will parse the From line using split() and print out the second word in the line (i.e. the entire address of the person who sent the message). Then print out a count at the end.\n",
    "\n",
    "Hint: make sure not to include the lines that start with 'From:'. Also look at the last line of the sample output to see how to print the count.\n",
    "\n",
    "You can download the sample data at http://www.py4e.com/code3/mbox-short.txt\n",
    "\n",
    "**Desired Output:**\n",
    "\n",
    "```text\n",
    "stephen.marquard@uct.ac.za\n",
    "louis@media.berkeley.edu\n",
    "zqian@umich.edu\n",
    "rjlowe@iupui.edu\n",
    "zqian@umich.edu\n",
    "rjlowe@iupui.edu\n",
    "cwen@iupui.edu\n",
    "cwen@iupui.edu\n",
    "gsilver@umich.edu\n",
    "gsilver@umich.edu\n",
    "zqian@umich.edu\n",
    "gsilver@umich.edu\n",
    "wagnermr@iupui.edu\n",
    "zqian@umich.edu\n",
    "antranig@caret.cam.ac.uk\n",
    "gopal.ramasammycook@gmail.com\n",
    "david.horwitz@uct.ac.za\n",
    "david.horwitz@uct.ac.za\n",
    "david.horwitz@uct.ac.za\n",
    "david.horwitz@uct.ac.za\n",
    "stephen.marquard@uct.ac.za\n",
    "louis@media.berkeley.edu\n",
    "louis@media.berkeley.edu\n",
    "ray@media.berkeley.edu\n",
    "cwen@iupui.edu\n",
    "cwen@iupui.edu\n",
    "cwen@iupui.edu\n",
    "There were 27 lines in the file with From as the first word\n",
    "```"
   ]
  },
  {
   "cell_type": "code",
   "execution_count": 1,
   "metadata": {},
   "outputs": [
    {
     "name": "stdout",
     "output_type": "stream",
     "text": [
      "stephen.marquard@uct.ac.za\n",
      "louis@media.berkeley.edu\n",
      "zqian@umich.edu\n",
      "rjlowe@iupui.edu\n",
      "zqian@umich.edu\n",
      "rjlowe@iupui.edu\n",
      "cwen@iupui.edu\n",
      "cwen@iupui.edu\n",
      "gsilver@umich.edu\n",
      "gsilver@umich.edu\n",
      "zqian@umich.edu\n",
      "gsilver@umich.edu\n",
      "wagnermr@iupui.edu\n",
      "zqian@umich.edu\n",
      "antranig@caret.cam.ac.uk\n",
      "gopal.ramasammycook@gmail.com\n",
      "david.horwitz@uct.ac.za\n",
      "david.horwitz@uct.ac.za\n",
      "david.horwitz@uct.ac.za\n",
      "david.horwitz@uct.ac.za\n",
      "stephen.marquard@uct.ac.za\n",
      "louis@media.berkeley.edu\n",
      "louis@media.berkeley.edu\n",
      "ray@media.berkeley.edu\n",
      "cwen@iupui.edu\n",
      "cwen@iupui.edu\n",
      "cwen@iupui.edu\n",
      "There were 27 lines in the file with From as the first word\n"
     ]
    }
   ],
   "source": [
    "def get_emails(file_name):\n",
    "    with open(\"./data/\" + file_name) as file:\n",
    "        text = file.readlines()\n",
    "\n",
    "    emails = []\n",
    "    for line in text:\n",
    "        split_line = line.rstrip().strip().split()\n",
    "        if len(split_line) < 2:\n",
    "            continue\n",
    "        if split_line[0] == \"From\":\n",
    "            emails.append(split_line[1])\n",
    "\n",
    "    return emails\n",
    "\n",
    "# Use the file name mbox-short.txt as the file name\n",
    "file_name = input(\"Enter file name:\")\n",
    "\n",
    "try:\n",
    "    emails = get_emails(file_name)\n",
    "    for email in emails:\n",
    "        print(email)\n",
    "    print(\"There were\", len(emails), \"lines in the file with From as the first word\")\n",
    "except Exception as e:\n",
    "    print(e)"
   ]
  }
 ],
 "metadata": {
  "kernelspec": {
   "display_name": "base",
   "language": "python",
   "name": "python3"
  },
  "language_info": {
   "codemirror_mode": {
    "name": "ipython",
    "version": 3
   },
   "file_extension": ".py",
   "mimetype": "text/x-python",
   "name": "python",
   "nbconvert_exporter": "python",
   "pygments_lexer": "ipython3",
   "version": "3.10.10"
  },
  "orig_nbformat": 4
 },
 "nbformat": 4,
 "nbformat_minor": 2
}
