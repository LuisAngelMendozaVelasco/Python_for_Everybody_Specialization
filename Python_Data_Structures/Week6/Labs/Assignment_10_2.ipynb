{
 "cells": [
  {
   "attachments": {},
   "cell_type": "markdown",
   "metadata": {},
   "source": [
    "# Assignment 10.2"
   ]
  },
  {
   "attachments": {},
   "cell_type": "markdown",
   "metadata": {},
   "source": [
    "Write a program to read through the mbox-short.txt and figure out the distribution by hour of the day for each of the messages. You can pull the hour out from the 'From ' line by finding the time and then splitting the string a second time using a colon.\n",
    "\n",
    "```text\n",
    "From stephen.marquard@uct.ac.za Sat Jan  5 09:14:16 2008\n",
    "```\n",
    "\n",
    "Once you have accumulated the counts for each hour, print out the counts, sorted by hour as shown below.\n",
    "\n",
    "**Desired Output:**\n",
    "\n",
    "```text\n",
    "04 3\n",
    "06 1\n",
    "07 1\n",
    "09 2\n",
    "10 3\n",
    "11 6\n",
    "14 1\n",
    "15 2\n",
    "16 4\n",
    "17 2\n",
    "18 1\n",
    "19 1\n",
    "```"
   ]
  },
  {
   "cell_type": "code",
   "execution_count": 7,
   "metadata": {},
   "outputs": [
    {
     "name": "stdout",
     "output_type": "stream",
     "text": [
      "04 3\n",
      "06 1\n",
      "07 1\n",
      "09 2\n",
      "10 3\n",
      "11 6\n",
      "14 1\n",
      "15 2\n",
      "16 4\n",
      "17 2\n",
      "18 1\n",
      "19 1\n"
     ]
    }
   ],
   "source": [
    "def get_time_emails(file_name):\n",
    "    with open(\"./data/\" + file_name) as file:\n",
    "        text = file.readlines()\n",
    "\n",
    "    times = []\n",
    "    for line in text:\n",
    "        split_line = line.rstrip().strip().split()\n",
    "        if len(split_line) < 2:\n",
    "            continue\n",
    "        if split_line[0] == \"From\":\n",
    "            times.append(split_line[-2])\n",
    "\n",
    "    return times\n",
    "\n",
    "# Use the file name mbox-short.txt as the file name\n",
    "file_name = input(\"Enter file name:\")\n",
    "\n",
    "try:\n",
    "    times = get_time_emails(file_name)\n",
    "    hours = []\n",
    "    for time in times:\n",
    "        hours.append(time.split(\":\")[0])\n",
    "    count_hours = {}\n",
    "    for hour in hours:\n",
    "        count_hours[hour] = 1 if (hour not in count_hours.keys()) else count_hours[hour] + 1\n",
    "    for key in sorted(count_hours):\n",
    "        print(key, count_hours[key])\n",
    "            \n",
    "except Exception as e:\n",
    "    print(e)"
   ]
  }
 ],
 "metadata": {
  "kernelspec": {
   "display_name": "base",
   "language": "python",
   "name": "python3"
  },
  "language_info": {
   "codemirror_mode": {
    "name": "ipython",
    "version": 3
   },
   "file_extension": ".py",
   "mimetype": "text/x-python",
   "name": "python",
   "nbconvert_exporter": "python",
   "pygments_lexer": "ipython3",
   "version": "3.10.10"
  },
  "orig_nbformat": 4
 },
 "nbformat": 4,
 "nbformat_minor": 2
}
