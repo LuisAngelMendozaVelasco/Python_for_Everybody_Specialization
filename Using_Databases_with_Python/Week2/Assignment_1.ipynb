{
 "cells": [
  {
   "attachments": {},
   "cell_type": "markdown",
   "metadata": {},
   "source": [
    "# Our First Database"
   ]
  },
  {
   "attachments": {},
   "cell_type": "markdown",
   "metadata": {},
   "source": [
    "**Instructions**\n",
    "\n",
    "If you don't already have it, install the SQLite Browser from http://sqlitebrowser.org/.\n",
    "\n",
    "Then, create a SQLITE database or use an existing database and create a table in the database called \"Ages\":\n",
    "\n",
    "```sql\n",
    "CREATE TABLE Ages ( \n",
    "    name VARCHAR(128), \n",
    "    age INTEGER\n",
    ")\n",
    "```\n",
    "\n",
    "Then make sure the table is empty by deleting any rows that you previously inserted, and insert these rows and only these rows with the following commands:\n",
    "\n",
    "```sql\n",
    "DELETE FROM Ages;\n",
    "INSERT INTO Ages (name, age) VALUES ('Alisdair', 28);\n",
    "INSERT INTO Ages (name, age) VALUES ('Kjae', 38);\n",
    "INSERT INTO Ages (name, age) VALUES ('Manisha', 28);\n",
    "INSERT INTO Ages (name, age) VALUES ('Leilan', 22);\n",
    "```\n",
    "\n",
    "Once the inserts are done, run the following SQL command:\n",
    "\n",
    "```sql\n",
    "SELECT hex(name || age) AS X FROM Ages ORDER BY X\n",
    "```\n",
    "\n",
    "Find the first row in the resulting record set and enter the long string that looks like 53656C696E613333.\n",
    "\n",
    "Note: This assignment must be done using SQLite - in particular, the SELECT query above will not work in any other database. So you cannot use MySQL or Oracle for this assignment."
   ]
  },
  {
   "cell_type": "code",
   "execution_count": 4,
   "metadata": {},
   "outputs": [
    {
     "name": "stdout",
     "output_type": "stream",
     "text": [
      "First row: 416C6973646169723238\n"
     ]
    }
   ],
   "source": [
    "import sqlite3\n",
    "import pandas as pd\n",
    "\n",
    "# Pass \":memory:\" to open a connection to a database that is in RAM instead of on disk.\n",
    "con = sqlite3.connect(\":memory:\")\n",
    "\n",
    "# In order to execute SQL statements and fetch results from SQL queries, we will need to use a database cursor.\n",
    "cur = con.cursor()\n",
    "\n",
    "cur.execute(\n",
    "            \"\"\"\n",
    "            CREATE TABLE Ages ( name VARCHAR(128), \n",
    "                                age INTEGER);\n",
    "            \"\"\"\n",
    "            )\n",
    "\n",
    "cur.execute(\n",
    "            \"\"\"\n",
    "            DELETE FROM Ages;\n",
    "            \"\"\"\n",
    "            )\n",
    "\n",
    "cur.execute(\n",
    "            \"\"\"\n",
    "            INSERT INTO Ages (name, age) VALUES ('Alisdair', 28),\n",
    "                                                ('Kjae', 38),\n",
    "                                                ('Manisha', 28),\n",
    "                                                ('Leilan', 22);\n",
    "            \"\"\"\n",
    "            )\n",
    "\n",
    "rows = cur.execute(\n",
    "            \"\"\"\n",
    "            SELECT HEX(name || age) AS X \n",
    "            FROM Ages \n",
    "            ORDER BY X\n",
    "            \"\"\"\n",
    "            )\n",
    "\n",
    "print(\"First row:\", rows.fetchone()[0])\n",
    "\n",
    "# To commit the transactions\n",
    "con.commit()\n",
    "\n",
    "# To close the existing connection\n",
    "con.close()"
   ]
  }
 ],
 "metadata": {
  "kernelspec": {
   "display_name": "base",
   "language": "python",
   "name": "python3"
  },
  "language_info": {
   "codemirror_mode": {
    "name": "ipython",
    "version": 3
   },
   "file_extension": ".py",
   "mimetype": "text/x-python",
   "name": "python",
   "nbconvert_exporter": "python",
   "pygments_lexer": "ipython3",
   "version": "3.10.10"
  },
  "orig_nbformat": 4
 },
 "nbformat": 4,
 "nbformat_minor": 2
}
